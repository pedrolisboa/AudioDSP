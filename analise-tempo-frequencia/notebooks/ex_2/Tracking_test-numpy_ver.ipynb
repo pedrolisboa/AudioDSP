{
 "cells": [
  {
   "cell_type": "code",
   "execution_count": 10,
   "metadata": {},
   "outputs": [],
   "source": [
    "import os\n",
    "import matplotlib.pyplot as plt\n",
    "import numpy as np\n",
    "from misc import *\n",
    "from scipy.signal import stft, blackman, hann, chirp, find_peaks\n",
    "from math import pi\n",
    "import pandas as pd\n",
    "\n",
    "\n",
    "datapath = './../../audio/reduzidas'"
   ]
  },
  {
   "cell_type": "code",
   "execution_count": 11,
   "metadata": {},
   "outputs": [],
   "source": [
    "wlen = 512\n",
    "win = hann(wlen)\n",
    "nfft = 1024\n",
    "threshold = 14\n",
    "fs, audio = read_audio('../../../../lps/SonarAnalysis/ExemplosLofar/vsine.wav')\n",
    "f, t, spec = stft(audio, fs, win, wlen, wlen/2, nfft)\n",
    "power = processSpec(spec, win, wlen, threshold)\n",
    "# spec = abs(spec)\n"
   ]
  },
  {
   "cell_type": "code",
   "execution_count": 12,
   "metadata": {},
   "outputs": [
    {
     "data": {
      "image/png": "[encoded data removed]",
      "text/plain": [
       "<Figure size 1080x1080 with 2 Axes>"
      ]
     },
     "metadata": {},
     "output_type": "display_data"
    }
   ],
   "source": [
    "%matplotlib inline\n",
    "fig, ax = plt.subplots(nrows=1,ncols=1, figsize=(15,15))\n",
    "plt.subplots_adjust(hspace=0.45)\n",
    "# power = processSpec(spec, wlen, 0)\n",
    "plot_spec(power, t, f, \"Audio teste\", ax)\n"
   ]
  },
  {
   "cell_type": "code",
   "execution_count": 13,
   "metadata": {},
   "outputs": [],
   "source": [
    "\n",
    "indexes = np.where(power>0)\n",
    "# indexes, peak_properties = np.apply_along_axis(lambda x: find_peaks(x, height=5), axis=0, arr=power)\n",
    "# peak_amplitudes = [properties['peak_heights'] for properties in peak_properties]\n",
    "# peak_frequencies = map(lambda x: f[x], peak_indexes)\n"
   ]
  },
  {
   "cell_type": "code",
   "execution_count": 14,
   "metadata": {},
   "outputs": [],
   "source": [
    "# def mark_tracks(peak_indexes, freq_mat, ampl_mat):\n",
    "#     tracks = np.array([], dtype=object)\n",
    "    \n",
    "#     def match_track(peak_freq, peak_ampl, i_frame, tracks):\n",
    "#         mask = np.array([track.matchFrequency(peak_freq,2) for track in tracks], dtype=int)\n",
    "#         indexes = np.nonzero(mask)[0]\n",
    "#         if indexes.size == 0:\n",
    "#             track = Track(i_frame, peak_freq, peak_ampl)\n",
    "#             tracks = np.append(tracks, track)\n",
    "#             return tracks\n",
    "#         print ('F: %f A: %f, Fr: %i' % (peak_freq,peak_ampl, i_frame))\n",
    "#         tracks[indexes[0]].append_frame(peak_freq,peak_ampl,i_frame)\n",
    "#         return tracks  #criterio de desempate: pega o primeiro  \n",
    "        \n",
    "#     def compare_tracks(peak_frequencies, peak_amplitudes, tracks, i_frame):\n",
    "# #         track_pair = np.array([match_track(peak_freq, peak_ampl, i_frame) \n",
    "# #                                       for peak_freq, peak_ampl in \n",
    "# #                                zip(peak_frequencies, peak_amplitudes)])\n",
    "#         #         ind = match_tracks(peak_frequencies)\n",
    "#         for peak_freq, peak_ampl in zip(peak_frequencies, peak_amplitudes):\n",
    "#             tracks = match_track(peak_freq, peak_ampl, i_frame, tracks)\n",
    "# #         for ind, winner_track in track_pair:\n",
    "# #             if ind != -1:\n",
    "# #                 tracks[ind] = winner_track\n",
    "# #         ind, winner_tracks = zip(*track_pair)\n",
    "# #         winner_tracks = winner_tracks[ind  > 0]\n",
    "# #         ind = ind[ind  > 0]\n",
    "# #         tracks[ind] = winner_tracks\n",
    "# #         winner_tracks = tracks[ind]\n",
    "# #         if winner_tracks.size > 0:\n",
    "# #             tracks[ind] = [track.append_frame(freq, ampl, i_frame) \n",
    "# #                             for track, freq, ampl in zip(tracks[ind], \n",
    "# #                                                          peak_frequencies[ind], \n",
    "# #                                                          peak_amplitudes[ind])]\n",
    "        \n",
    "# #         ind, _ = zip(*track_pair)\n",
    "# #         print ind\n",
    "# #         new_tracks_mask = np.ones_like(peak_frequencies, dtype=bool)\n",
    "# #         new_tracks_mask[ind] = False\n",
    "        \n",
    "# #         new_tracks = np.array([Track(i_frame, freq, ampl) for freq, ampl in\n",
    "# #                               zip(peak_frequencies[new_tracks_mask], \n",
    "# #                                   peak_amplitudes[new_tracks_mask])])\n",
    "# #         tracks = np.append(tracks, new_tracks)\n",
    "#         return tracks\n",
    "    \n",
    "#     for i_frame, (peak_frequencies, peak_amplitudes) in enumerate(zip(freq_mat, ampl_mat)):\n",
    "#         tracks = compare_tracks(peak_frequencies, peak_amplitudes, tracks, i_frame)\n",
    "    \n",
    "#     for track in tracks:\n",
    "#         track.closeTrack()\n",
    "#     return tracks\n",
    "\n",
    "# tracks = mark_tracks(peak_indexes, peak_frequencies, peak_amplitudes)\n"
   ]
  },
  {
   "cell_type": "code",
   "execution_count": 15,
   "metadata": {},
   "outputs": [],
   "source": [
    "# from synthesizers import Sinusoidal\n",
    "# s = Sinusoidal(tracks, 1024, power.shape[1])\n",
    "# plt.imshow(s.run())"
   ]
  },
  {
   "cell_type": "code",
   "execution_count": 16,
   "metadata": {},
   "outputs": [],
   "source": [
    "abs_value = np.absolute(power)"
   ]
  },
  {
   "cell_type": "code",
   "execution_count": 17,
   "metadata": {},
   "outputs": [],
   "source": [
    "listOfCoords = list(zip(indexes[0],indexes[1])) # Item i of this list is the ith spectral peak's \n",
    "                                                # frequency index and frame index\n",
    "\n",
    "listOfTracks = []\n",
    "\n",
    "for coord in listOfCoords:\n",
    "    (f_bin, frame_index) = coord # Frames which belong to the frame we are analising\n",
    "    if (frame_index==0) :\n",
    "        x = Track(0,f[f_bin],power[coord]) \n",
    "        listOfTracks.append(x)\n",
    "\n",
    "# arr = np.array(listOfCoords)\n",
    "df = pd.DataFrame(listOfCoords,columns=['freq_bin','time_frame'])\n",
    "r = (df[df.time_frame == 1])\n",
    "r = (df[df.time_frame == 1]).to_numpy().tolist()"
   ]
  },
  {
   "cell_type": "code",
   "execution_count": 18,
   "metadata": {},
   "outputs": [
    {
     "ename": "ValueError",
     "evalue": "The truth value of an array with more than one element is ambiguous. Use a.any() or a.all()",
     "output_type": "error",
     "traceback": [
      "\u001b[0;31m---------------------------------------------------------------------------\u001b[0m",
      "\u001b[0;31mValueError\u001b[0m                                Traceback (most recent call last)",
      "\u001b[0;32m<ipython-input-18-f53b3c118ee0>\u001b[0m in \u001b[0;36m<module>\u001b[0;34m()\u001b[0m\n\u001b[1;32m     12\u001b[0m         \u001b[0mlist_of_pairs\u001b[0m \u001b[0;34m=\u001b[0m \u001b[0;34m[\u001b[0m\u001b[0;34m]\u001b[0m\u001b[0;34m\u001b[0m\u001b[0m\n\u001b[1;32m     13\u001b[0m         \u001b[0;32mfor\u001b[0m \u001b[0mpeak\u001b[0m \u001b[0;32min\u001b[0m \u001b[0mpeaks_in_frame\u001b[0m \u001b[0;34m:\u001b[0m\u001b[0;34m\u001b[0m\u001b[0m\n\u001b[0;32m---> 14\u001b[0;31m             \u001b[0;34m(\u001b[0m\u001b[0mwin\u001b[0m\u001b[0;34m,\u001b[0m\u001b[0mdif\u001b[0m\u001b[0;34m)\u001b[0m \u001b[0;34m=\u001b[0m \u001b[0mevaluate_closest_track\u001b[0m\u001b[0;34m(\u001b[0m\u001b[0mpeak\u001b[0m\u001b[0;34m,\u001b[0m\u001b[0mlistOfTracks\u001b[0m\u001b[0;34m,\u001b[0m\u001b[0mfreq_dist_thresh\u001b[0m\u001b[0;34m,\u001b[0m\u001b[0mj\u001b[0m\u001b[0;34m,\u001b[0m\u001b[0mf\u001b[0m\u001b[0;34m)\u001b[0m\u001b[0;34m\u001b[0m\u001b[0m\n\u001b[0m\u001b[1;32m     15\u001b[0m \u001b[0;31m#             (win,dif) = evaluate_closest_track(peak[0],listOfTracks,freq_dist_thresh,j,f)\u001b[0m\u001b[0;34m\u001b[0m\u001b[0;34m\u001b[0m\u001b[0m\n\u001b[1;32m     16\u001b[0m             \u001b[0mk\u001b[0m \u001b[0;34m=\u001b[0m \u001b[0;34m(\u001b[0m\u001b[0mwin\u001b[0m\u001b[0;34m,\u001b[0m\u001b[0mdif\u001b[0m\u001b[0;34m,\u001b[0m\u001b[0mpeak\u001b[0m\u001b[0;34m)\u001b[0m\u001b[0;34m\u001b[0m\u001b[0m\n",
      "\u001b[0;32m/home/pedrolisboa/Workspace/AudioDSP/analise-tempo-frequencia/notebooks/ex_2/misc.pyc\u001b[0m in \u001b[0;36mevaluate_closest_track\u001b[0;34m(frequency, listOfTracks, freq_dist_thresh, frame, freq_list)\u001b[0m\n\u001b[1;32m    119\u001b[0m         \u001b[0;32mif\u001b[0m \u001b[0;34m(\u001b[0m\u001b[0;34m(\u001b[0m\u001b[0mTrack_analyzed\u001b[0m\u001b[0;34m.\u001b[0m\u001b[0mgetFinalFrame\u001b[0m\u001b[0;34m(\u001b[0m\u001b[0;34m)\u001b[0m \u001b[0;34m<\u001b[0m \u001b[0;36m0\u001b[0m\u001b[0;34m)\u001b[0m \u001b[0;32mand\u001b[0m \u001b[0;34m(\u001b[0m\u001b[0mTrack_analyzed\u001b[0m\u001b[0;34m.\u001b[0m\u001b[0mgetInitialFrame\u001b[0m\u001b[0;34m(\u001b[0m\u001b[0;34m)\u001b[0m \u001b[0;34m<\u001b[0m \u001b[0mframe\u001b[0m\u001b[0;34m)\u001b[0m \u001b[0;32mand\u001b[0m \u001b[0;34m(\u001b[0m\u001b[0mlen\u001b[0m\u001b[0;34m(\u001b[0m\u001b[0mTrack_analyzed\u001b[0m\u001b[0;34m.\u001b[0m\u001b[0mgetFrequency\u001b[0m\u001b[0;34m(\u001b[0m\u001b[0;34m)\u001b[0m\u001b[0;34m)\u001b[0m \u001b[0;34m+\u001b[0m \u001b[0mTrack_analyzed\u001b[0m\u001b[0;34m.\u001b[0m\u001b[0mgetInitialFrame\u001b[0m\u001b[0;34m(\u001b[0m\u001b[0;34m)\u001b[0m \u001b[0;34m-\u001b[0m \u001b[0;36m1\u001b[0m \u001b[0;34m!=\u001b[0m \u001b[0mframe\u001b[0m\u001b[0;34m)\u001b[0m\u001b[0;34m)\u001b[0m\u001b[0;34m:\u001b[0m\u001b[0;34m\u001b[0m\u001b[0m\n\u001b[1;32m    120\u001b[0m             \u001b[0mn_dif\u001b[0m \u001b[0;34m=\u001b[0m \u001b[0mabs\u001b[0m\u001b[0;34m(\u001b[0m\u001b[0mfreq_list\u001b[0m\u001b[0;34m[\u001b[0m\u001b[0mfrequency\u001b[0m\u001b[0;34m]\u001b[0m \u001b[0;34m-\u001b[0m \u001b[0;34m(\u001b[0m\u001b[0mlistOfTracks\u001b[0m\u001b[0;34m[\u001b[0m\u001b[0mtrack\u001b[0m\u001b[0;34m]\u001b[0m\u001b[0;34m.\u001b[0m\u001b[0mgetFrequency\u001b[0m\u001b[0;34m(\u001b[0m\u001b[0;34m)\u001b[0m\u001b[0;34m)\u001b[0m\u001b[0;34m[\u001b[0m\u001b[0mframe\u001b[0m\u001b[0;34m-\u001b[0m\u001b[0;36m1\u001b[0m\u001b[0;34m-\u001b[0m\u001b[0mlistOfTracks\u001b[0m\u001b[0;34m[\u001b[0m\u001b[0mtrack\u001b[0m\u001b[0;34m]\u001b[0m\u001b[0;34m.\u001b[0m\u001b[0mgetInitialFrame\u001b[0m\u001b[0;34m(\u001b[0m\u001b[0;34m)\u001b[0m\u001b[0;34m]\u001b[0m\u001b[0;34m)\u001b[0m\u001b[0;34m\u001b[0m\u001b[0m\n\u001b[0;32m--> 121\u001b[0;31m             \u001b[0mdif\u001b[0m \u001b[0;34m=\u001b[0m \u001b[0mmin\u001b[0m\u001b[0;34m(\u001b[0m\u001b[0mn_dif\u001b[0m\u001b[0;34m,\u001b[0m\u001b[0mdif\u001b[0m\u001b[0;34m)\u001b[0m\u001b[0;34m\u001b[0m\u001b[0m\n\u001b[0m\u001b[1;32m    122\u001b[0m             \u001b[0;32mif\u001b[0m \u001b[0;34m(\u001b[0m\u001b[0mdif\u001b[0m \u001b[0;34m==\u001b[0m \u001b[0mn_dif\u001b[0m\u001b[0;34m)\u001b[0m \u001b[0;32mand\u001b[0m \u001b[0;34m(\u001b[0m\u001b[0mdif\u001b[0m\u001b[0;34m/\u001b[0m\u001b[0;34m(\u001b[0m\u001b[0mlistOfTracks\u001b[0m\u001b[0;34m[\u001b[0m\u001b[0mtrack\u001b[0m\u001b[0;34m]\u001b[0m\u001b[0;34m.\u001b[0m\u001b[0mgetFrequency\u001b[0m\u001b[0;34m(\u001b[0m\u001b[0;34m)\u001b[0m\u001b[0;34m)\u001b[0m\u001b[0;34m[\u001b[0m\u001b[0mframe\u001b[0m\u001b[0;34m-\u001b[0m\u001b[0;36m1\u001b[0m\u001b[0;34m-\u001b[0m\u001b[0mlistOfTracks\u001b[0m\u001b[0;34m[\u001b[0m\u001b[0mtrack\u001b[0m\u001b[0;34m]\u001b[0m\u001b[0;34m.\u001b[0m\u001b[0mgetInitialFrame\u001b[0m\u001b[0;34m(\u001b[0m\u001b[0;34m)\u001b[0m\u001b[0;34m]\u001b[0m \u001b[0;34m<=\u001b[0m \u001b[0mfreq_dist_thresh\u001b[0m\u001b[0;34m)\u001b[0m\u001b[0;34m:\u001b[0m\u001b[0;34m\u001b[0m\u001b[0m\n\u001b[1;32m    123\u001b[0m                 \u001b[0mwinner\u001b[0m \u001b[0;34m=\u001b[0m \u001b[0mtrack\u001b[0m\u001b[0;34m\u001b[0m\u001b[0m\n",
      "\u001b[0;31mValueError\u001b[0m: The truth value of an array with more than one element is ambiguous. Use a.any() or a.all()"
     ]
    }
   ],
   "source": [
    "import copy\n",
    "freq_dist_thresh = 0.1\n",
    "\n",
    "\n",
    "for j in range(1,len(t)-1):\n",
    "    if j % 10 == 0:\n",
    "        print (\"Frame %i\" % j)\n",
    "#     peaks_in_frame = (arr[:, np.hsplit(arr,2) == j]).tolist()\n",
    "    peaks_in_frame = (df[df.time_frame == j]).to_numpy().tolist()\n",
    "    end = False\n",
    "    while not(end) :\n",
    "        list_of_pairs = []\n",
    "        for peak in peaks_in_frame :\n",
    "            (win,dif) = evaluate_closest_track(peak,listOfTracks,freq_dist_thresh,j,f)\n",
    "#             (win,dif) = evaluate_closest_track(peak[0],listOfTracks,freq_dist_thresh,j,f)\n",
    "            k = (win,dif,peak)\n",
    "            list_of_pairs.append(k)\n",
    "        n_list_of_pairs = copy.deepcopy(list_of_pairs)\n",
    "        for value in n_list_of_pairs :\n",
    "            if (value[0] == -1): \n",
    "                x = Track(j,f[value[2]],abs_value[tuple(value[2])]) # a new track is born\n",
    "                listOfTracks.append(x) #append track\n",
    "                list_of_pairs.remove(value)\n",
    "                peaks_in_frame.remove(value[2]) #no need to run it again for that peak\n",
    "            else :\n",
    "                list_of_recurrencies = list(filter(lambda x : x[0] == value[0],n_list_of_pairs))\n",
    "                if (len(list_of_recurrencies) > 1) : # We are not the only ones who chose this track\n",
    "                    dists = list(map(lambda x : x[1],list_of_recurrencies))\n",
    "                    if (value[1] == min(dists) and (len(listOfTracks[value[0]].getFrequency()) + listOfTracks[value[0]].getInitialFrame() <= j)):\n",
    "                        listOfTracks[value[0]].frequency.append(f[((value[2])[0])])\n",
    "                        listOfTracks[value[0]].amplitude.append((abs_value[tuple(value[2])]))\n",
    "                        peaks_in_frame.remove(value[2])\n",
    "                        list_of_pairs.remove(value)\n",
    "                else :\n",
    "                    listOfTracks[value[0]].frequency.append(f[(value[2][0])])\n",
    "                    listOfTracks[value[0]].amplitude.append((abs_value[tuple(value[2])]))\n",
    "                    list_of_pairs.remove(value)\n",
    "                    peaks_in_frame.remove(value[2])\n",
    "        \n",
    "        end = (len(peaks_in_frame) == 0)            \n",
    "    for track in listOfTracks:\n",
    "         # Track wasnt assigned any peak on this frame\n",
    "        if ((track.getFinalFrame() < 0) and (len(track.getFrequency()) + track.getInitialFrame() <= j)):\n",
    "            track.setFinalFrame(j-1) # End of the track\n",
    "        elif ((track.getFinalFrame() < 0) and (j==2464)): # No more frames to go:\n",
    "            track.setFinalFrame(j) # End of the track"
   ]
  },
  {
   "cell_type": "code",
   "execution_count": 30,
   "metadata": {},
   "outputs": [
    {
     "data": {
      "text/plain": [
       "[array([10.76660156, 53.83300781])]"
      ]
     },
     "execution_count": 30,
     "metadata": {},
     "output_type": "execute_result"
    }
   ],
   "source": [
    "listOfTracks[0].frequency"
   ]
  },
  {
   "cell_type": "code",
   "execution_count": 15,
   "metadata": {},
   "outputs": [
    {
     "ename": "ValueError",
     "evalue": "all the input arrays must have same number of dimensions",
     "output_type": "error",
     "traceback": [
      "\u001b[0;31m---------------------------------------------------------------------------\u001b[0m",
      "\u001b[0;31mValueError\u001b[0m                                Traceback (most recent call last)",
      "\u001b[0;32m<ipython-input-15-b204f8cf94bc>\u001b[0m in \u001b[0;36m<module>\u001b[0;34m()\u001b[0m\n\u001b[1;32m      1\u001b[0m \u001b[0;32mfrom\u001b[0m \u001b[0msynthesizers\u001b[0m \u001b[0;32mimport\u001b[0m \u001b[0mSinusoidal\u001b[0m\u001b[0;34m\u001b[0m\u001b[0m\n\u001b[1;32m      2\u001b[0m \u001b[0ms\u001b[0m \u001b[0;34m=\u001b[0m \u001b[0mSinusoidal\u001b[0m\u001b[0;34m(\u001b[0m\u001b[0mlistOfTracks\u001b[0m\u001b[0;34m,\u001b[0m \u001b[0;36m1024\u001b[0m\u001b[0;34m,\u001b[0m \u001b[0mpower\u001b[0m\u001b[0;34m.\u001b[0m\u001b[0mshape\u001b[0m\u001b[0;34m[\u001b[0m\u001b[0;36m1\u001b[0m\u001b[0;34m]\u001b[0m\u001b[0;34m)\u001b[0m\u001b[0;34m\u001b[0m\u001b[0m\n\u001b[0;32m----> 3\u001b[0;31m \u001b[0mplt\u001b[0m\u001b[0;34m.\u001b[0m\u001b[0mimshow\u001b[0m\u001b[0;34m(\u001b[0m\u001b[0ms\u001b[0m\u001b[0;34m.\u001b[0m\u001b[0mrun\u001b[0m\u001b[0;34m(\u001b[0m\u001b[0;34m)\u001b[0m\u001b[0;34m)\u001b[0m\u001b[0;34m\u001b[0m\u001b[0m\n\u001b[0m",
      "\u001b[0;32m/home/pedrolisboa/Workspace/AudioDSP/analise-tempo-frequencia/notebooks/ex_2/synthesizers.pyc\u001b[0m in \u001b[0;36mrun\u001b[0;34m(self)\u001b[0m\n\u001b[1;32m     16\u001b[0m \u001b[0;34m\u001b[0m\u001b[0m\n\u001b[1;32m     17\u001b[0m             \u001b[0mamplitudes\u001b[0m \u001b[0;34m=\u001b[0m \u001b[0mself\u001b[0m\u001b[0;34m.\u001b[0m\u001b[0m_pad_array\u001b[0m\u001b[0;34m(\u001b[0m\u001b[0mstart_frame\u001b[0m\u001b[0;34m,\u001b[0m \u001b[0mtrack\u001b[0m\u001b[0;34m.\u001b[0m\u001b[0mamplitude\u001b[0m\u001b[0;34m,\u001b[0m \u001b[0mself\u001b[0m\u001b[0;34m.\u001b[0m\u001b[0mn_frames\u001b[0m\u001b[0;34m)\u001b[0m\u001b[0;34m\u001b[0m\u001b[0m\n\u001b[0;32m---> 18\u001b[0;31m             \u001b[0mang_frequencies\u001b[0m \u001b[0;34m=\u001b[0m \u001b[0;36m2\u001b[0m\u001b[0;34m*\u001b[0m\u001b[0mnp\u001b[0m\u001b[0;34m.\u001b[0m\u001b[0mpi\u001b[0m\u001b[0;34m*\u001b[0m\u001b[0mself\u001b[0m\u001b[0;34m.\u001b[0m\u001b[0m_pad_array\u001b[0m\u001b[0;34m(\u001b[0m\u001b[0mstart_frame\u001b[0m\u001b[0;34m,\u001b[0m \u001b[0mtrack\u001b[0m\u001b[0;34m.\u001b[0m\u001b[0mfrequency\u001b[0m\u001b[0;34m,\u001b[0m \u001b[0mself\u001b[0m\u001b[0;34m.\u001b[0m\u001b[0mn_frames\u001b[0m\u001b[0;34m)\u001b[0m\u001b[0;34m\u001b[0m\u001b[0m\n\u001b[0m\u001b[1;32m     19\u001b[0m \u001b[0;34m\u001b[0m\u001b[0m\n\u001b[1;32m     20\u001b[0m \u001b[0;31m#             amplitudes = self.linear_interpolate(amplitudes)\u001b[0m\u001b[0;34m\u001b[0m\u001b[0;34m\u001b[0m\u001b[0m\n",
      "\u001b[0;32m/home/pedrolisboa/Workspace/AudioDSP/analise-tempo-frequencia/notebooks/ex_2/synthesizers.pyc\u001b[0m in \u001b[0;36m_pad_array\u001b[0;34m(self, start_frame, array, n_frames)\u001b[0m\n\u001b[1;32m     56\u001b[0m         return np.concatenate([np.zeros(start_frame),\n\u001b[1;32m     57\u001b[0m                           \u001b[0marray\u001b[0m\u001b[0;34m,\u001b[0m\u001b[0;34m\u001b[0m\u001b[0m\n\u001b[0;32m---> 58\u001b[0;31m                           np.zeros(n_frames - (start_frame + len(array)))])\n\u001b[0m\u001b[1;32m     59\u001b[0m \u001b[0;34m\u001b[0m\u001b[0m\n\u001b[1;32m     60\u001b[0m \u001b[0;34m\u001b[0m\u001b[0m\n",
      "\u001b[0;31mValueError\u001b[0m: all the input arrays must have same number of dimensions"
     ]
    }
   ],
   "source": [
    "from synthesizers import Sinusoidal\n",
    "s = Sinusoidal(listOfTracks, 1024, power.shape[1])\n",
    "plt.imshow(s.run())"
   ]
  },
  {
   "cell_type": "code",
   "execution_count": null,
   "metadata": {},
   "outputs": [],
   "source": []
  }
 ],
 "metadata": {
  "kernelspec": {
   "display_name": "Python 3",
   "language": "python",
   "name": "python3"
  },
  "language_info": {
   "codemirror_mode": {
    "name": "ipython",
    "version": 3
   },
   "file_extension": ".py",
   "mimetype": "text/x-python",
   "name": "python",
   "nbconvert_exporter": "python",
   "pygments_lexer": "ipython3",
   "version": "3.7.1"
  }
 },
 "nbformat": 4,
 "nbformat_minor": 2
}
